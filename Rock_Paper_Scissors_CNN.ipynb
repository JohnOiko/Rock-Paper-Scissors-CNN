{
  "nbformat": 4,
  "nbformat_minor": 0,
  "metadata": {
    "colab": {
      "provenance": []
    },
    "kernelspec": {
      "name": "python3",
      "display_name": "Python 3"
    },
    "language_info": {
      "name": "python"
    }
  },
  "cells": [
    {
      "cell_type": "markdown",
      "source": [
        "This Jupyter notebook was uploaded to the following github repository:\n",
        "\n",
        "https://github.com/JohnOiko/Rock-Paper-Scissors-CNN"
      ],
      "metadata": {
        "id": "cHIZ7zKsKJvw"
      }
    },
    {
      "cell_type": "markdown",
      "source": [
        "# 1. Import libraries"
      ],
      "metadata": {
        "id": "6LdrNNljPZ8_"
      }
    },
    {
      "cell_type": "code",
      "execution_count": 1,
      "metadata": {
        "id": "l0grPlnLePWY"
      },
      "outputs": [],
      "source": [
        "import cv2\n",
        "import numpy as np\n",
        "import os\n",
        "import random\n",
        "import pandas as pd\n",
        "import matplotlib.pyplot as plt\n",
        "import tensorflow as tf\n",
        "from sklearn.preprocessing import MinMaxScaler\n",
        "from sklearn.model_selection import train_test_split\n",
        "from google.colab.patches import cv2_imshow\n",
        "from sklearn.ensemble import RandomForestClassifier\n",
        "from sklearn.svm import SVC\n",
        "from sklearn.metrics import classification_report"
      ]
    },
    {
      "cell_type": "markdown",
      "source": [
        "# 2. Variables"
      ],
      "metadata": {
        "id": "auVE-U4XPdyG"
      }
    },
    {
      "cell_type": "markdown",
      "source": [
        "## a. Preprocessing variables"
      ],
      "metadata": {
        "id": "cGZA6jGawSp1"
      }
    },
    {
      "cell_type": "code",
      "source": [
        "random_state = 0\n",
        "dataset_directory = 'rps-cv-images'\n",
        "height = 40\n",
        "width = 60\n",
        "grayscale = False\n",
        "color_dim = 1 if grayscale else 3\n",
        "vertical_flip_chance = 0.5\n",
        "horizontal_flip_chance = 0.5\n",
        "white_noise_mean = 0\n",
        "white_noise_std = 0.05 * 255"
      ],
      "metadata": {
        "id": "Rg07K2vx5uWL"
      },
      "execution_count": 2,
      "outputs": []
    },
    {
      "cell_type": "markdown",
      "source": [
        "## b. Game variables"
      ],
      "metadata": {
        "id": "0XrmttOIwWDr"
      }
    },
    {
      "cell_type": "code",
      "source": [
        "rounds_num = 1000\n",
        "victory_reward = 2\n",
        "tie_reward = 1\n",
        "loss_reward = -1\n",
        "show_bad_predictions = True"
      ],
      "metadata": {
        "id": "PfqN6hUZwYuc"
      },
      "execution_count": 3,
      "outputs": []
    },
    {
      "cell_type": "markdown",
      "source": [
        "# 3. Useful functions"
      ],
      "metadata": {
        "id": "gSRFfmOxPsCa"
      }
    },
    {
      "cell_type": "markdown",
      "source": [
        "## a. Function that distorts the given image"
      ],
      "metadata": {
        "id": "CjDyFqU9Px3E"
      }
    },
    {
      "cell_type": "markdown",
      "source": [
        "The image is first vertically flipped with the given chance, then horizontally flipped and then Gaussian noise is added to it, with the given mean and standard deviation."
      ],
      "metadata": {
        "id": "x4GjjsWUQdKp"
      }
    },
    {
      "cell_type": "code",
      "source": [
        "def distort_image(img, vertical_flip_chance, horizontal_flip_chance, white_noise_mean, white_noise_std):\n",
        "  distorted_img = img\n",
        "  if random.random() < vertical_flip_chance:\n",
        "    distorted_img = cv2.flip(distorted_img, 0)\n",
        "  if random.random() < horizontal_flip_chance:\n",
        "    distorted_img = cv2.flip(distorted_img, 1)\n",
        "\n",
        "  distorted_img = distorted_img + np.random.normal(white_noise_mean, white_noise_std, np.shape(distorted_img))\n",
        "  return distorted_img"
      ],
      "metadata": {
        "id": "enIjqVi-NaUc"
      },
      "execution_count": 4,
      "outputs": []
    },
    {
      "cell_type": "markdown",
      "source": [
        "## b. Function that hosts the game."
      ],
      "metadata": {
        "id": "D1dTrXG1QGZR"
      }
    },
    {
      "cell_type": "code",
      "source": [
        "def playGame(images, real_labels, model, rounds_num, victory_reward, tie_reward, loss_reward, height, width, vertical_flip_chance, horizontal_flip_chance, white_noise_mean, white_noise_std, show_bad_predictions):\n",
        "  # A table that holds the player's rewards based on the player's and random agent's moves.\n",
        "  # The rows correspond to the player's moves and the columns to the random agent's moves.\n",
        "  reward_table = np.array([[tie_reward, loss_reward, victory_reward], [victory_reward, tie_reward, loss_reward], [loss_reward, victory_reward, tie_reward]])\n",
        "\n",
        "  profit = 0\n",
        "  profit_history = []\n",
        "  non_wins = 0\n",
        "  for i in range(rounds_num):\n",
        "    # Select a random image from the test set and reshape it back to its original dimensions.\n",
        "    random_index = random.randint(0, len(images) - 1)\n",
        "    selected_img = np.reshape(x_test[random_index], (height, width, color_dim))\n",
        "\n",
        "    # Distort the image using the applicable function\n",
        "    selected_distorted_img = distort_image(selected_img, vertical_flip_chance, horizontal_flip_chance, white_noise_mean, white_noise_std)\n",
        "\n",
        "    # Scale the distorted image using min max scaling\n",
        "    selected_distorted_scaled_img = selected_distorted_img / 255\n",
        "\n",
        "    # Use the provided model to detect the move of the random agent.\n",
        "    detected_move = np.argmax(model.predict(np.reshape(selected_distorted_scaled_img, (1, height, width, color_dim)), verbose=0))\n",
        "    # Save the actual move of the random agent.\n",
        "    real_move = real_labels[random_index]\n",
        "\n",
        "    # Calculate the player's move based on the detected move. If the detected move was rock, play paper,\n",
        "    # else if it was paper, play scissorcs, else if it was scissors, play rock.\n",
        "    match detected_move:\n",
        "      case 0:\n",
        "        player_move = 1\n",
        "        detected_move_label = 'rock'\n",
        "      case 1:\n",
        "        player_move = 2\n",
        "        detected_move_label = 'paper'\n",
        "      case 2:\n",
        "        player_move = 0\n",
        "        detected_move_label = 'scissors'\n",
        "\n",
        "    # Update the total profit using the reward table.\n",
        "    profit += reward_table[player_move, real_move] - 1\n",
        "\n",
        "    # Add the current profit to the list of profits after the end of each round.\n",
        "    profit_history.append(profit)\n",
        "\n",
        "    if show_bad_predictions:\n",
        "      match real_move:\n",
        "        case 0:\n",
        "          real_move_label = 'rock'\n",
        "        case 1:\n",
        "          real_move_label = 'paper'\n",
        "        case 2:\n",
        "          real_move_label = 'scissors'\n",
        "\n",
        "      if reward_table[player_move, real_move] == tie_reward:\n",
        "        non_wins += 1\n",
        "        print(f'{non_wins}) Tied against this image (detected = {detected_move_label}, real = {real_move_label}):')\n",
        "        cv2_imshow(selected_distorted_img)\n",
        "      elif reward_table[player_move, real_move] == loss_reward:\n",
        "        non_wins += 1\n",
        "        print(f'{non_wins}) Lost against this image (detected = {detected_move_label}, real = {real_move_label}):')\n",
        "        cv2_imshow(selected_distorted_img)\n",
        "\n",
        "  return profit_history"
      ],
      "metadata": {
        "id": "Bx0U5KTeOeBt"
      },
      "execution_count": 5,
      "outputs": []
    },
    {
      "cell_type": "markdown",
      "source": [
        "# 4. Dataset reading"
      ],
      "metadata": {
        "id": "-SBQDxgRRmeM"
      }
    },
    {
      "cell_type": "code",
      "source": [
        "x, y = [], []\n",
        "for folder in os.listdir(dataset_directory):\n",
        "  for file in os.listdir(f'{dataset_directory}/{folder}'):\n",
        "    # rock corresponds to the label 0, paper to 1 and scissors to 2.\n",
        "    match folder:\n",
        "      case 'rock': y.append(0)\n",
        "      case 'paper':  y.append(1)\n",
        "      case 'scissors': y.append(2)\n",
        "\n",
        "    # Save the image.\n",
        "    img = cv2.imread(f'{dataset_directory}/{folder}/{file}')\n",
        "    # Resize the image to the selected dimensions.\n",
        "    img = cv2.resize(img, (width, height), interpolation = cv2.INTER_AREA)\n",
        "    # If selected, save the image in grayscale.\n",
        "    if grayscale:\n",
        "      img = cv2.cvtColor(img, cv2.COLOR_BGR2GRAY)\n",
        "\n",
        "    # Add the image to the list of images which will be saved in the dataframe.\n",
        "    x.append(img.flatten())\n",
        "\n",
        "x, y = np.array(x), np.array(y)"
      ],
      "metadata": {
        "id": "-4QpH6CnM6kU"
      },
      "execution_count": 6,
      "outputs": []
    },
    {
      "cell_type": "markdown",
      "source": [
        "# 5. Stratified train test split"
      ],
      "metadata": {
        "id": "78vKgbtwSHwT"
      }
    },
    {
      "cell_type": "code",
      "source": [
        "x_train, x_test, y_train, y_test = train_test_split(x, y, test_size=0.2, random_state=random_state, stratify=y)"
      ],
      "metadata": {
        "id": "FOJN3wSC5JfM"
      },
      "execution_count": 7,
      "outputs": []
    },
    {
      "cell_type": "markdown",
      "source": [
        "# 6. Train and test sets distortion"
      ],
      "metadata": {
        "id": "Eau68X5MSPqw"
      }
    },
    {
      "cell_type": "code",
      "source": [
        "x_train_dist_scaled = np.copy(x_train)\n",
        "for i in range(len(x_train_dist_scaled)):\n",
        "  x_train_dist_scaled[i] = distort_image(np.reshape(x_train_dist_scaled[i], (height, width, color_dim)), vertical_flip_chance, horizontal_flip_chance, white_noise_mean, white_noise_std).flatten()"
      ],
      "metadata": {
        "id": "WgfQgyN_9JYq"
      },
      "execution_count": 8,
      "outputs": []
    },
    {
      "cell_type": "code",
      "source": [
        "x_test_dist_scaled = np.copy(x_test)\n",
        "for i in range(len(x_test_dist_scaled)):\n",
        "  x_test_dist_scaled[i] = distort_image(np.reshape(x_test_dist_scaled[i], (height, width, color_dim)), vertical_flip_chance, horizontal_flip_chance, white_noise_mean, white_noise_std).flatten()"
      ],
      "metadata": {
        "id": "Q4Zi9UxB1CZP"
      },
      "execution_count": 9,
      "outputs": []
    },
    {
      "cell_type": "markdown",
      "source": [
        "# 7. Min max scaling"
      ],
      "metadata": {
        "id": "mIfXAkVKSaXZ"
      }
    },
    {
      "cell_type": "markdown",
      "source": [
        "Min max scaling was selected because the samples are images with feature values in the range [0, 255]."
      ],
      "metadata": {
        "id": "Kw1ergq_oTxu"
      }
    },
    {
      "cell_type": "code",
      "source": [
        "scaler = MinMaxScaler()\n",
        "x_train_dist_norm = scaler.fit_transform(x_train_dist_scaled)"
      ],
      "metadata": {
        "id": "8c5-w7zQLVUy"
      },
      "execution_count": 10,
      "outputs": []
    },
    {
      "cell_type": "code",
      "source": [
        "x_test_dist_norm = scaler.transform(x_test_dist_scaled)"
      ],
      "metadata": {
        "id": "s0YnwXIV1ZwY"
      },
      "execution_count": 11,
      "outputs": []
    },
    {
      "cell_type": "markdown",
      "source": [
        "# 8 Train different models to predict the move each image depicts"
      ],
      "metadata": {
        "id": "o7MfJTemSeay"
      }
    },
    {
      "cell_type": "markdown",
      "source": [
        "The SVC and Random Forest are trained using the distorted train set. The Keras convolutional NN has two flip layers (one vertical and one horizontal) and one gaussian noise one."
      ],
      "metadata": {
        "id": "n2RlOGCLzWTI"
      }
    },
    {
      "cell_type": "markdown",
      "source": [
        "## a. SVC fitting and classification reports"
      ],
      "metadata": {
        "id": "QGeldUB30O4f"
      }
    },
    {
      "cell_type": "code",
      "source": [
        "svc = SVC(random_state=random_state)\n",
        "svc.fit(x_train_dist_scaled, y_train)\n",
        "\n",
        "print(f'SVC train classification report:\\n{classification_report(y_train, svc.predict(x_train_dist_scaled), target_names=[\"rock\", \"paper\", \"scissors\"])}')\n",
        "print(f'SVC test classification report:\\n{classification_report(y_test, svc.predict(x_test_dist_scaled), target_names=[\"rock\", \"paper\", \"scissors\"])}')"
      ],
      "metadata": {
        "colab": {
          "base_uri": "https://localhost:8080/"
        },
        "id": "g_FxbBcp9_70",
        "outputId": "f3c14416-a826-4496-dbdb-4ffa4dbae33a"
      },
      "execution_count": 12,
      "outputs": [
        {
          "output_type": "stream",
          "name": "stdout",
          "text": [
            "SVC train classification report:\n",
            "              precision    recall  f1-score   support\n",
            "\n",
            "        rock       0.99      0.97      0.98       581\n",
            "       paper       1.00      0.95      0.98       569\n",
            "    scissors       0.93      1.00      0.97       600\n",
            "\n",
            "    accuracy                           0.97      1750\n",
            "   macro avg       0.98      0.97      0.97      1750\n",
            "weighted avg       0.97      0.97      0.97      1750\n",
            "\n",
            "SVC test classification report:\n",
            "              precision    recall  f1-score   support\n",
            "\n",
            "        rock       0.95      0.92      0.93       145\n",
            "       paper       0.95      0.90      0.92       143\n",
            "    scissors       0.88      0.96      0.92       150\n",
            "\n",
            "    accuracy                           0.92       438\n",
            "   macro avg       0.93      0.92      0.92       438\n",
            "weighted avg       0.93      0.92      0.92       438\n",
            "\n"
          ]
        }
      ]
    },
    {
      "cell_type": "markdown",
      "source": [
        "## b. Random forest fitting and classfication reports"
      ],
      "metadata": {
        "id": "PPYCGL8A2ybp"
      }
    },
    {
      "cell_type": "code",
      "source": [
        "rf = RandomForestClassifier(random_state=random_state)\n",
        "rf.fit(x_train_dist_scaled, y_train)\n",
        "\n",
        "print(f'RF train classification report:\\n{classification_report(y_train, rf.predict(x_train_dist_scaled), target_names=[\"rock\", \"paper\", \"scissors\"])}')\n",
        "print(f'RF test classification report:\\n{classification_report(y_test, rf.predict(x_test_dist_scaled), target_names=[\"rock\", \"paper\", \"scissors\"])}')"
      ],
      "metadata": {
        "colab": {
          "base_uri": "https://localhost:8080/"
        },
        "id": "LrE67mQy22v7",
        "outputId": "e657e613-37eb-4077-a7d5-f0897833940f"
      },
      "execution_count": 32,
      "outputs": [
        {
          "output_type": "stream",
          "name": "stdout",
          "text": [
            "RF train classification report:\n",
            "              precision    recall  f1-score   support\n",
            "\n",
            "        rock       1.00      1.00      1.00       581\n",
            "       paper       1.00      1.00      1.00       569\n",
            "    scissors       1.00      1.00      1.00       600\n",
            "\n",
            "    accuracy                           1.00      1750\n",
            "   macro avg       1.00      1.00      1.00      1750\n",
            "weighted avg       1.00      1.00      1.00      1750\n",
            "\n",
            "RF test classification report:\n",
            "              precision    recall  f1-score   support\n",
            "\n",
            "        rock       0.89      0.94      0.92       145\n",
            "       paper       0.92      0.85      0.88       143\n",
            "    scissors       0.91      0.94      0.92       150\n",
            "\n",
            "    accuracy                           0.91       438\n",
            "   macro avg       0.91      0.91      0.91       438\n",
            "weighted avg       0.91      0.91      0.91       438\n",
            "\n"
          ]
        }
      ]
    },
    {
      "cell_type": "markdown",
      "source": [
        "## c. Convolutional neural network fitting and classification reports"
      ],
      "metadata": {
        "id": "U9KwKEqM3ZxT"
      }
    },
    {
      "cell_type": "markdown",
      "source": [
        "Reshape the train and test sets back to thier original shape and scale them using min max scaling."
      ],
      "metadata": {
        "id": "3Sh6qcsrz3Vf"
      }
    },
    {
      "cell_type": "code",
      "source": [
        "x_train_cnn = np.reshape(np.array(x_train), (x_train.shape[0], height, width, color_dim)) / 255\n",
        "x_test_cnn = np.reshape(np.array(x_test), (x_test.shape[0], height, width, color_dim)) / 255"
      ],
      "metadata": {
        "id": "9f7s8f_Fz3CB"
      },
      "execution_count": 14,
      "outputs": []
    },
    {
      "cell_type": "markdown",
      "source": [
        "There are three classes and the labels are one-hot encoded."
      ],
      "metadata": {
        "id": "xx9374AOzkge"
      }
    },
    {
      "cell_type": "code",
      "source": [
        "num_classes = 3\n",
        "y_train_one_hot = tf.one_hot(y_train, depth=num_classes)\n",
        "y_test_one_hot = tf.one_hot(y_test, depth=num_classes)\n",
        "y_train.shape, y_test.shape"
      ],
      "metadata": {
        "colab": {
          "base_uri": "https://localhost:8080/"
        },
        "id": "xOM28HYFVS1Y",
        "outputId": "3fb7c86e-0513-4aae-8989-b59bf56cb862"
      },
      "execution_count": 15,
      "outputs": [
        {
          "output_type": "execute_result",
          "data": {
            "text/plain": [
              "((1750,), (438,))"
            ]
          },
          "metadata": {},
          "execution_count": 15
        }
      ]
    },
    {
      "cell_type": "markdown",
      "source": [
        "Keras convolutional neural network parameters."
      ],
      "metadata": {
        "id": "_dGgPxAnzrKn"
      }
    },
    {
      "cell_type": "code",
      "source": [
        "num_conv_layers = 2\n",
        "num_filters = 64\n",
        "kernel_size = (4, 6)\n",
        "strides = (1, 1)\n",
        "input_shape = (height, width, )\n",
        "num_hidden_layers = 5\n",
        "units = [98, 196, 392, 196, 98]\n",
        "\n",
        "activation = 'relu'\n",
        "dropout_rate = 0.5"
      ],
      "metadata": {
        "id": "kNPoE_iVW-MV"
      },
      "execution_count": 24,
      "outputs": []
    },
    {
      "cell_type": "code",
      "source": [
        "cnn = tf.keras.Sequential(name='rock-paper-scissors-cn')\n",
        "\n",
        "# Flip and Gaussian noise layers\n",
        "cnn.add(tf.keras.layers.Input((height, width, color_dim), name='input_layer'))\n",
        "cnn.add(tf.keras.layers.RandomFlip(mode='vertical'))\n",
        "cnn.add(tf.keras.layers.RandomFlip(mode='horizontal'))\n",
        "cnn.add(tf.keras.layers.GaussianNoise(stddev=white_noise_std / 255))\n",
        "\n",
        "# CNN\n",
        "for i in range(num_conv_layers):\n",
        "  cnn.add(\n",
        "      tf.keras.layers.Conv2D(\n",
        "          filters=num_filters,\n",
        "          kernel_size=kernel_size,\n",
        "          strides=strides,\n",
        "          activation='relu',\n",
        "          name=f'conv_layer_{i+1}'\n",
        "      )\n",
        "  )\n",
        "  cnn.add(tf.keras.layers.Dropout(rate=dropout_rate, name=f'dropout_{i+1}'))\n",
        "  cnn.add(tf.keras.layers.MaxPooling2D(name=f'maxpool_{i+1}'))\n",
        "\n",
        "# Flattening\n",
        "cnn.add(tf.keras.layers.Flatten())\n",
        "\n",
        "# CNN\n",
        "for i in range(num_hidden_layers):\n",
        "  cnn.add(tf.keras.layers.Dense(units=units[i], activation=activation, name=f'hidden_layer_{i+1}'))\n",
        "cnn.add(tf.keras.layers.Dense(units=num_classes, activation='softmax', name='output_layer'))\n",
        "cnn.summary()"
      ],
      "metadata": {
        "colab": {
          "base_uri": "https://localhost:8080/"
        },
        "id": "nnKA8KYEV4va",
        "outputId": "936e9582-c345-445e-a58b-00a0dbc2425d"
      },
      "execution_count": 33,
      "outputs": [
        {
          "output_type": "stream",
          "name": "stdout",
          "text": [
            "Model: \"rock-paper-scissors-cn\"\n",
            "_________________________________________________________________\n",
            " Layer (type)                Output Shape              Param #   \n",
            "=================================================================\n",
            " random_flip_4 (RandomFlip)  (None, 40, 60, 3)         0         \n",
            "                                                                 \n",
            " random_flip_5 (RandomFlip)  (None, 40, 60, 3)         0         \n",
            "                                                                 \n",
            " gaussian_noise_2 (Gaussian  (None, 40, 60, 3)         0         \n",
            " Noise)                                                          \n",
            "                                                                 \n",
            " conv_layer_1 (Conv2D)       (None, 37, 55, 64)        4672      \n",
            "                                                                 \n",
            " dropout_1 (Dropout)         (None, 37, 55, 64)        0         \n",
            "                                                                 \n",
            " maxpool_1 (MaxPooling2D)    (None, 18, 27, 64)        0         \n",
            "                                                                 \n",
            " conv_layer_2 (Conv2D)       (None, 15, 22, 64)        98368     \n",
            "                                                                 \n",
            " dropout_2 (Dropout)         (None, 15, 22, 64)        0         \n",
            "                                                                 \n",
            " maxpool_2 (MaxPooling2D)    (None, 7, 11, 64)         0         \n",
            "                                                                 \n",
            " flatten_2 (Flatten)         (None, 4928)              0         \n",
            "                                                                 \n",
            " hidden_layer_1 (Dense)      (None, 98)                483042    \n",
            "                                                                 \n",
            " hidden_layer_2 (Dense)      (None, 196)               19404     \n",
            "                                                                 \n",
            " hidden_layer_3 (Dense)      (None, 392)               77224     \n",
            "                                                                 \n",
            " hidden_layer_4 (Dense)      (None, 196)               77028     \n",
            "                                                                 \n",
            " hidden_layer_5 (Dense)      (None, 98)                19306     \n",
            "                                                                 \n",
            " output_layer (Dense)        (None, 3)                 297       \n",
            "                                                                 \n",
            "=================================================================\n",
            "Total params: 779341 (2.97 MB)\n",
            "Trainable params: 779341 (2.97 MB)\n",
            "Non-trainable params: 0 (0.00 Byte)\n",
            "_________________________________________________________________\n"
          ]
        }
      ]
    },
    {
      "cell_type": "code",
      "source": [
        "learning_rate = 0.0002\n",
        "loss = 'categorical_crossentropy'\n",
        "metrics = ['accuracy']\n",
        "batch_size = 256\n",
        "epochs = 70\n",
        "\n",
        "cnn.compile(optimizer=tf.keras.optimizers.Adam(learning_rate=learning_rate), loss=loss, metrics=metrics)\n",
        "cnn.fit(x_train_cnn, y_train_one_hot, batch_size=batch_size, epochs=epochs)"
      ],
      "metadata": {
        "colab": {
          "base_uri": "https://localhost:8080/"
        },
        "id": "1Refg30JXKeq",
        "outputId": "2333c0f0-d9a4-4ca3-b1ce-df4a875143b6"
      },
      "execution_count": 26,
      "outputs": [
        {
          "output_type": "stream",
          "name": "stdout",
          "text": [
            "Epoch 1/70\n",
            "7/7 [==============================] - 13s 2s/step - loss: 1.0723 - accuracy: 0.4754\n",
            "Epoch 2/70\n",
            "7/7 [==============================] - 11s 2s/step - loss: 0.9554 - accuracy: 0.6126\n",
            "Epoch 3/70\n",
            "7/7 [==============================] - 11s 2s/step - loss: 0.8556 - accuracy: 0.6200\n",
            "Epoch 4/70\n",
            "7/7 [==============================] - 11s 2s/step - loss: 0.7312 - accuracy: 0.7297\n",
            "Epoch 5/70\n",
            "7/7 [==============================] - 11s 2s/step - loss: 0.5778 - accuracy: 0.8029\n",
            "Epoch 6/70\n",
            "7/7 [==============================] - 11s 2s/step - loss: 0.4659 - accuracy: 0.8360\n",
            "Epoch 7/70\n",
            "7/7 [==============================] - 11s 2s/step - loss: 0.3713 - accuracy: 0.8703\n",
            "Epoch 8/70\n",
            "7/7 [==============================] - 11s 2s/step - loss: 0.2913 - accuracy: 0.9029\n",
            "Epoch 9/70\n",
            "7/7 [==============================] - 11s 2s/step - loss: 0.2309 - accuracy: 0.9269\n",
            "Epoch 10/70\n",
            "7/7 [==============================] - 12s 2s/step - loss: 0.1942 - accuracy: 0.9389\n",
            "Epoch 11/70\n",
            "7/7 [==============================] - 11s 2s/step - loss: 0.1833 - accuracy: 0.9440\n",
            "Epoch 12/70\n",
            "7/7 [==============================] - 11s 2s/step - loss: 0.1817 - accuracy: 0.9429\n",
            "Epoch 13/70\n",
            "7/7 [==============================] - 11s 2s/step - loss: 0.1986 - accuracy: 0.9303\n",
            "Epoch 14/70\n",
            "7/7 [==============================] - 11s 2s/step - loss: 0.1897 - accuracy: 0.9389\n",
            "Epoch 15/70\n",
            "7/7 [==============================] - 11s 2s/step - loss: 0.1611 - accuracy: 0.9486\n",
            "Epoch 16/70\n",
            "7/7 [==============================] - 11s 2s/step - loss: 0.1586 - accuracy: 0.9469\n",
            "Epoch 17/70\n",
            "7/7 [==============================] - 11s 2s/step - loss: 0.1318 - accuracy: 0.9606\n",
            "Epoch 18/70\n",
            "7/7 [==============================] - 11s 2s/step - loss: 0.1233 - accuracy: 0.9611\n",
            "Epoch 19/70\n",
            "7/7 [==============================] - 11s 2s/step - loss: 0.1161 - accuracy: 0.9577\n",
            "Epoch 20/70\n",
            "7/7 [==============================] - 12s 2s/step - loss: 0.1137 - accuracy: 0.9663\n",
            "Epoch 21/70\n",
            "7/7 [==============================] - 11s 2s/step - loss: 0.1010 - accuracy: 0.9686\n",
            "Epoch 22/70\n",
            "7/7 [==============================] - 11s 2s/step - loss: 0.0978 - accuracy: 0.9743\n",
            "Epoch 23/70\n",
            "7/7 [==============================] - 11s 2s/step - loss: 0.0906 - accuracy: 0.9709\n",
            "Epoch 24/70\n",
            "7/7 [==============================] - 11s 2s/step - loss: 0.0941 - accuracy: 0.9743\n",
            "Epoch 25/70\n",
            "7/7 [==============================] - 11s 2s/step - loss: 0.0817 - accuracy: 0.9771\n",
            "Epoch 26/70\n",
            "7/7 [==============================] - 11s 2s/step - loss: 0.1004 - accuracy: 0.9680\n",
            "Epoch 27/70\n",
            "7/7 [==============================] - 11s 2s/step - loss: 0.0932 - accuracy: 0.9731\n",
            "Epoch 28/70\n",
            "7/7 [==============================] - 11s 2s/step - loss: 0.0795 - accuracy: 0.9800\n",
            "Epoch 29/70\n",
            "7/7 [==============================] - 11s 2s/step - loss: 0.0798 - accuracy: 0.9731\n",
            "Epoch 30/70\n",
            "7/7 [==============================] - 11s 2s/step - loss: 0.0753 - accuracy: 0.9771\n",
            "Epoch 31/70\n",
            "7/7 [==============================] - 12s 2s/step - loss: 0.0777 - accuracy: 0.9777\n",
            "Epoch 32/70\n",
            "7/7 [==============================] - 11s 2s/step - loss: 0.0827 - accuracy: 0.9737\n",
            "Epoch 33/70\n",
            "7/7 [==============================] - 11s 2s/step - loss: 0.0675 - accuracy: 0.9823\n",
            "Epoch 34/70\n",
            "7/7 [==============================] - 11s 2s/step - loss: 0.0548 - accuracy: 0.9857\n",
            "Epoch 35/70\n",
            "7/7 [==============================] - 11s 2s/step - loss: 0.0476 - accuracy: 0.9857\n",
            "Epoch 36/70\n",
            "7/7 [==============================] - 11s 2s/step - loss: 0.0607 - accuracy: 0.9846\n",
            "Epoch 37/70\n",
            "7/7 [==============================] - 11s 2s/step - loss: 0.0504 - accuracy: 0.9857\n",
            "Epoch 38/70\n",
            "7/7 [==============================] - 11s 2s/step - loss: 0.0406 - accuracy: 0.9891\n",
            "Epoch 39/70\n",
            "7/7 [==============================] - 11s 2s/step - loss: 0.0459 - accuracy: 0.9880\n",
            "Epoch 40/70\n",
            "7/7 [==============================] - 11s 2s/step - loss: 0.0424 - accuracy: 0.9891\n",
            "Epoch 41/70\n",
            "7/7 [==============================] - 18s 3s/step - loss: 0.0479 - accuracy: 0.9857\n",
            "Epoch 42/70\n",
            "7/7 [==============================] - 11s 2s/step - loss: 0.0545 - accuracy: 0.9823\n",
            "Epoch 43/70\n",
            "7/7 [==============================] - 11s 2s/step - loss: 0.0527 - accuracy: 0.9840\n",
            "Epoch 44/70\n",
            "7/7 [==============================] - 11s 2s/step - loss: 0.0379 - accuracy: 0.9863\n",
            "Epoch 45/70\n",
            "7/7 [==============================] - 11s 2s/step - loss: 0.0369 - accuracy: 0.9886\n",
            "Epoch 46/70\n",
            "7/7 [==============================] - 11s 2s/step - loss: 0.0285 - accuracy: 0.9926\n",
            "Epoch 47/70\n",
            "7/7 [==============================] - 11s 2s/step - loss: 0.0274 - accuracy: 0.9937\n",
            "Epoch 48/70\n",
            "7/7 [==============================] - 12s 2s/step - loss: 0.0301 - accuracy: 0.9909\n",
            "Epoch 49/70\n",
            "7/7 [==============================] - 11s 2s/step - loss: 0.0396 - accuracy: 0.9869\n",
            "Epoch 50/70\n",
            "7/7 [==============================] - 11s 2s/step - loss: 0.0318 - accuracy: 0.9891\n",
            "Epoch 51/70\n",
            "7/7 [==============================] - 12s 2s/step - loss: 0.0326 - accuracy: 0.9869\n",
            "Epoch 52/70\n",
            "7/7 [==============================] - 11s 2s/step - loss: 0.0320 - accuracy: 0.9909\n",
            "Epoch 53/70\n",
            "7/7 [==============================] - 11s 2s/step - loss: 0.0247 - accuracy: 0.9931\n",
            "Epoch 54/70\n",
            "7/7 [==============================] - 11s 2s/step - loss: 0.0250 - accuracy: 0.9943\n",
            "Epoch 55/70\n",
            "7/7 [==============================] - 11s 2s/step - loss: 0.0223 - accuracy: 0.9943\n",
            "Epoch 56/70\n",
            "7/7 [==============================] - 11s 2s/step - loss: 0.0195 - accuracy: 0.9949\n",
            "Epoch 57/70\n",
            "7/7 [==============================] - 11s 2s/step - loss: 0.0202 - accuracy: 0.9931\n",
            "Epoch 58/70\n",
            "7/7 [==============================] - 11s 2s/step - loss: 0.0212 - accuracy: 0.9943\n",
            "Epoch 59/70\n",
            "7/7 [==============================] - 11s 2s/step - loss: 0.0208 - accuracy: 0.9937\n",
            "Epoch 60/70\n",
            "7/7 [==============================] - 11s 2s/step - loss: 0.0252 - accuracy: 0.9914\n",
            "Epoch 61/70\n",
            "7/7 [==============================] - 12s 2s/step - loss: 0.0347 - accuracy: 0.9874\n",
            "Epoch 62/70\n",
            "7/7 [==============================] - 11s 2s/step - loss: 0.0333 - accuracy: 0.9903\n",
            "Epoch 63/70\n",
            "7/7 [==============================] - 11s 2s/step - loss: 0.0223 - accuracy: 0.9937\n",
            "Epoch 64/70\n",
            "7/7 [==============================] - 11s 2s/step - loss: 0.0186 - accuracy: 0.9960\n",
            "Epoch 65/70\n",
            "7/7 [==============================] - 11s 2s/step - loss: 0.0163 - accuracy: 0.9966\n",
            "Epoch 66/70\n",
            "7/7 [==============================] - 11s 2s/step - loss: 0.0186 - accuracy: 0.9954\n",
            "Epoch 67/70\n",
            "7/7 [==============================] - 11s 2s/step - loss: 0.0165 - accuracy: 0.9943\n",
            "Epoch 68/70\n",
            "7/7 [==============================] - 11s 2s/step - loss: 0.0126 - accuracy: 0.9960\n",
            "Epoch 69/70\n",
            "7/7 [==============================] - 11s 2s/step - loss: 0.0130 - accuracy: 0.9971\n",
            "Epoch 70/70\n",
            "7/7 [==============================] - 11s 2s/step - loss: 0.0101 - accuracy: 0.9977\n"
          ]
        },
        {
          "output_type": "execute_result",
          "data": {
            "text/plain": [
              "<keras.src.callbacks.History at 0x7bc77ec56770>"
            ]
          },
          "metadata": {},
          "execution_count": 26
        }
      ]
    },
    {
      "cell_type": "code",
      "source": [
        "print(f'CNN train classification report:\\n{classification_report(y_train, np.argmax(cnn.predict(x_train_cnn), axis=1), target_names=[\"rock\", \"paper\", \"scissors\"])}')\n",
        "print(f'CNN test classification report:\\n{classification_report(y_test, np.argmax(cnn.predict(x_test_cnn), axis=1), target_names=[\"rock\", \"paper\", \"scissors\"])}')"
      ],
      "metadata": {
        "colab": {
          "base_uri": "https://localhost:8080/"
        },
        "id": "fZBvhbvo3olL",
        "outputId": "aa488d6e-19e0-4693-9366-1944409aa6cc"
      },
      "execution_count": 27,
      "outputs": [
        {
          "output_type": "stream",
          "name": "stdout",
          "text": [
            "55/55 [==============================] - 2s 39ms/step\n",
            "CNN train classification report:\n",
            "              precision    recall  f1-score   support\n",
            "\n",
            "        rock       1.00      0.99      1.00       581\n",
            "       paper       0.99      1.00      0.99       569\n",
            "    scissors       1.00      1.00      1.00       600\n",
            "\n",
            "    accuracy                           1.00      1750\n",
            "   macro avg       1.00      1.00      1.00      1750\n",
            "weighted avg       1.00      1.00      1.00      1750\n",
            "\n",
            "14/14 [==============================] - 1s 37ms/step\n",
            "CNN test classification report:\n",
            "              precision    recall  f1-score   support\n",
            "\n",
            "        rock       0.98      0.99      0.99       145\n",
            "       paper       0.97      0.98      0.98       143\n",
            "    scissors       1.00      0.98      0.99       150\n",
            "\n",
            "    accuracy                           0.98       438\n",
            "   macro avg       0.98      0.98      0.98       438\n",
            "weighted avg       0.98      0.98      0.98       438\n",
            "\n"
          ]
        }
      ]
    },
    {
      "cell_type": "markdown",
      "source": [
        "# 9. Game simulation"
      ],
      "metadata": {
        "id": "CfBB8ZfySjiF"
      }
    },
    {
      "cell_type": "code",
      "source": [
        "profit_history = playGame(x_test, y_test, cnn, rounds_num, victory_reward, tie_reward, loss_reward, height, width, vertical_flip_chance, horizontal_flip_chance, white_noise_mean, white_noise_std, show_bad_predictions)\n",
        "print(f'\\nThe total profit is {profit_history[-1]}')"
      ],
      "metadata": {
        "colab": {
          "base_uri": "https://localhost:8080/",
          "height": 746
        },
        "id": "3aj5gOU7FQx6",
        "outputId": "72502b70-493a-4499-98c7-6f8f54d1419b"
      },
      "execution_count": 28,
      "outputs": [
        {
          "output_type": "stream",
          "name": "stdout",
          "text": [
            "1) Lost against this image (detected = paper, real = rock):\n"
          ]
        },
        {
          "output_type": "display_data",
          "data": {
            "text/plain": [
              "<PIL.Image.Image image mode=RGB size=60x40>"
            ],
            "image/png": "[encoded data removed]"
          },
          "metadata": {}
        },
        {
          "output_type": "stream",
          "name": "stdout",
          "text": [
            "2) Tied against this image (detected = paper, real = scissors):\n"
          ]
        },
        {
          "output_type": "display_data",
          "data": {
            "text/plain": [
              "<PIL.Image.Image image mode=RGB size=60x40>"
            ],
            "image/png": "[encoded data removed]"
          },
          "metadata": {}
        },
        {
          "output_type": "stream",
          "name": "stdout",
          "text": [
            "3) Tied against this image (detected = paper, real = scissors):\n"
          ]
        },
        {
          "output_type": "display_data",
          "data": {
            "text/plain": [
              "<PIL.Image.Image image mode=RGB size=60x40>"
            ],
            "image/png": "[encoded data removed]"
          },
          "metadata": {}
        },
        {
          "output_type": "stream",
          "name": "stdout",
          "text": [
            "4) Tied against this image (detected = paper, real = scissors):\n"
          ]
        },
        {
          "output_type": "display_data",
          "data": {
            "text/plain": [
              "<PIL.Image.Image image mode=RGB size=60x40>"
            ],
            "image/png": "[encoded data removed]"
          },
          "metadata": {}
        },
        {
          "output_type": "stream",
          "name": "stdout",
          "text": [
            "5) Tied against this image (detected = rock, real = paper):\n"
          ]
        },
        {
          "output_type": "display_data",
          "data": {
            "text/plain": [
              "<PIL.Image.Image image mode=RGB size=60x40>"
            ],
            "image/png": "[encoded data removed]"
          },
          "metadata": {}
        },
        {
          "output_type": "stream",
          "name": "stdout",
          "text": [
            "6) Lost against this image (detected = paper, real = rock):\n"
          ]
        },
        {
          "output_type": "display_data",
          "data": {
            "text/plain": [
              "<PIL.Image.Image image mode=RGB size=60x40>"
            ],
            "image/png": "[encoded data removed]"
          },
          "metadata": {}
        },
        {
          "output_type": "stream",
          "name": "stdout",
          "text": [
            "7) Lost against this image (detected = paper, real = rock):\n"
          ]
        },
        {
          "output_type": "display_data",
          "data": {
            "text/plain": [
              "<PIL.Image.Image image mode=RGB size=60x40>"
            ],
            "image/png": "[encoded data removed]"
          },
          "metadata": {}
        },
        {
          "output_type": "stream",
          "name": "stdout",
          "text": [
            "8) Lost against this image (detected = paper, real = rock):\n"
          ]
        },
        {
          "output_type": "display_data",
          "data": {
            "text/plain": [
              "<PIL.Image.Image image mode=RGB size=60x40>"
            ],
            "image/png": "[encoded data removed]"
          },
          "metadata": {}
        },
        {
          "output_type": "stream",
          "name": "stdout",
          "text": [
            "9) Tied against this image (detected = rock, real = paper):\n"
          ]
        },
        {
          "output_type": "display_data",
          "data": {
            "text/plain": [
              "<PIL.Image.Image image mode=RGB size=60x40>"
            ],
            "image/png": "[encoded data removed]"
          },
          "metadata": {}
        },
        {
          "output_type": "stream",
          "name": "stdout",
          "text": [
            "10) Tied against this image (detected = rock, real = paper):\n"
          ]
        },
        {
          "output_type": "display_data",
          "data": {
            "text/plain": [
              "<PIL.Image.Image image mode=RGB size=60x40>"
            ],
            "image/png": "[encoded data removed]"
          },
          "metadata": {}
        },
        {
          "output_type": "stream",
          "name": "stdout",
          "text": [
            "11) Tied against this image (detected = paper, real = scissors):\n"
          ]
        },
        {
          "output_type": "display_data",
          "data": {
            "text/plain": [
              "<PIL.Image.Image image mode=RGB size=60x40>"
            ],
            "image/png": "[encoded data removed]"
          },
          "metadata": {}
        },
        {
          "output_type": "stream",
          "name": "stdout",
          "text": [
            "12) Lost against this image (detected = paper, real = rock):\n"
          ]
        },
        {
          "output_type": "display_data",
          "data": {
            "text/plain": [
              "<PIL.Image.Image image mode=RGB size=60x40>"
            ],
            "image/png": "[encoded data removed]"
          },
          "metadata": {}
        },
        {
          "output_type": "stream",
          "name": "stdout",
          "text": [
            "\n",
            "The total profit is 978\n"
          ]
        }
      ]
    },
    {
      "cell_type": "markdown",
      "source": [
        "# 10. Total profit plot"
      ],
      "metadata": {
        "id": "BEAuIkMpSmGV"
      }
    },
    {
      "cell_type": "code",
      "source": [
        "plot = plt.plot([i for i in range(1, rounds_num + 1)], profit_history)\n",
        "plt.xlabel(\"Round number\")\n",
        "plt.ylabel(\"Total profit\")\n",
        "plt.title(\"Total profit plot\")\n",
        "plt.show()"
      ],
      "metadata": {
        "colab": {
          "base_uri": "https://localhost:8080/",
          "height": 472
        },
        "id": "xVTSuQ3kTCLu",
        "outputId": "3d9e76a7-1eb1-4ca7-d662-8e9b9652e1e2"
      },
      "execution_count": 29,
      "outputs": [
        {
          "output_type": "display_data",
          "data": {
            "text/plain": [
              "<Figure size 640x480 with 1 Axes>"
            ],
            "image/png": "[encoded data removed]"
          },
          "metadata": {}
        }
      ]
    },
    {
      "cell_type": "markdown",
      "source": [
        "# 11. Secondary dataset classification report"
      ],
      "metadata": {
        "id": "sEC9ygLwPFpF"
      }
    },
    {
      "cell_type": "markdown",
      "source": [
        "Secondary dataset reading (only 500 samples from each class are used)."
      ],
      "metadata": {
        "id": "GCaOJDPnQN87"
      }
    },
    {
      "cell_type": "code",
      "source": [
        "x_sec, y_sec = [], []\n",
        "secondary_dataset_directory = 'secondary-rps-images'\n",
        "for folder in os.listdir(secondary_dataset_directory):\n",
        "  for file in os.listdir(f'{secondary_dataset_directory}/{folder}'):\n",
        "    # rock corresponds to the label 0, paper to 1 and scissors to 2.\n",
        "    match folder:\n",
        "      case 'rock': y_sec.append(0)\n",
        "      case 'paper':  y_sec.append(1)\n",
        "      case 'scissors': y_sec.append(2)\n",
        "\n",
        "    # Save the image.\n",
        "    img = cv2.imread(f'{secondary_dataset_directory}/{folder}/{file}')\n",
        "    # Resize the image to the selected dimensions.\n",
        "    img = cv2.resize(img, (width, height), interpolation = cv2.INTER_AREA)\n",
        "    # If selected, save the image in grayscale.\n",
        "    if grayscale:\n",
        "      img = cv2.cvtColor(img, cv2.COLOR_BGR2GRAY)\n",
        "\n",
        "    # Add the image to the list of images which will be saved in the dataframe\n",
        "    x_sec.append(img)\n",
        "\n",
        "x_sec, y_sec = np.array(x_sec) / 255, np.array(y_sec)"
      ],
      "metadata": {
        "id": "1Kc0FL8MQNhz"
      },
      "execution_count": 30,
      "outputs": []
    },
    {
      "cell_type": "markdown",
      "source": [
        "Classification report of the CNN on the secondary dataset."
      ],
      "metadata": {
        "id": "I81qTXCEaDtH"
      }
    },
    {
      "cell_type": "code",
      "source": [
        "print(f'Secondary dataset classification report:\\n{classification_report(y_sec, np.argmax(cnn.predict(x_sec), axis=1), target_names=[\"rock\", \"paper\", \"scissors\"], zero_division=0.0)}')"
      ],
      "metadata": {
        "colab": {
          "base_uri": "https://localhost:8080/"
        },
        "id": "F7fPi6MePPVT",
        "outputId": "8d1a143f-be09-4571-8393-713920a33cbe"
      },
      "execution_count": 31,
      "outputs": [
        {
          "output_type": "stream",
          "name": "stdout",
          "text": [
            "47/47 [==============================] - 2s 39ms/step\n",
            "Secondary dataset classification report:\n",
            "              precision    recall  f1-score   support\n",
            "\n",
            "        rock       0.90      0.02      0.04       500\n",
            "       paper       0.33      1.00      0.50       500\n",
            "    scissors       0.00      0.00      0.00       500\n",
            "\n",
            "    accuracy                           0.34      1500\n",
            "   macro avg       0.41      0.34      0.18      1500\n",
            "weighted avg       0.41      0.34      0.18      1500\n",
            "\n"
          ]
        }
      ]
    }
  ]
}