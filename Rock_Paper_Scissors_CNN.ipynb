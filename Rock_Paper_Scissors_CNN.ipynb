{
  "nbformat": 4,
  "nbformat_minor": 0,
  "metadata": {
    "colab": {
      "provenance": []
    },
    "kernelspec": {
      "name": "python3",
      "display_name": "Python 3"
    },
    "language_info": {
      "name": "python"
    }
  },
  "cells": [
    {
      "cell_type": "markdown",
      "source": [
        "This Jupyter notebook was uploaded to the following github repository:\n",
        "\n",
        "https://github.com/JohnOiko/Rock-Paper-Scissors-CNN"
      ],
      "metadata": {
        "id": "cHIZ7zKsKJvw"
      }
    },
    {
      "cell_type": "markdown",
      "source": [
        "# 1. Import libraries"
      ],
      "metadata": {
        "id": "6LdrNNljPZ8_"
      }
    },
    {
      "cell_type": "code",
      "execution_count": 1,
      "metadata": {
        "id": "l0grPlnLePWY"
      },
      "outputs": [],
      "source": [
        "import cv2\n",
        "import numpy as np\n",
        "import os\n",
        "import random\n",
        "import pandas as pd\n",
        "import matplotlib.pyplot as plt\n",
        "import tensorflow as tf\n",
        "from sklearn.preprocessing import MinMaxScaler\n",
        "from sklearn.model_selection import train_test_split\n",
        "from google.colab.patches import cv2_imshow\n",
        "from sklearn.ensemble import RandomForestClassifier\n",
        "from sklearn.svm import SVC\n",
        "from sklearn.metrics import classification_report"
      ]
    },
    {
      "cell_type": "markdown",
      "source": [
        "# 2. Variables"
      ],
      "metadata": {
        "id": "auVE-U4XPdyG"
      }
    },
    {
      "cell_type": "markdown",
      "source": [
        "## a. Preprocessing variables"
      ],
      "metadata": {
        "id": "cGZA6jGawSp1"
      }
    },
    {
      "cell_type": "code",
      "source": [
        "random_state = 0\n",
        "dataset_directory = '/content/drive/MyDrive/rps-cv-images'\n",
        "height = 40\n",
        "width = 60\n",
        "grayscale = False\n",
        "color_dim = 1 if grayscale else 3\n",
        "vertical_flip_chance = 0.5\n",
        "horizontal_flip_chance = 0.5\n",
        "white_noise_mean = 0\n",
        "white_noise_std = 0.05 * 255"
      ],
      "metadata": {
        "id": "Rg07K2vx5uWL"
      },
      "execution_count": 2,
      "outputs": []
    },
    {
      "cell_type": "markdown",
      "source": [
        "## b. Game variables"
      ],
      "metadata": {
        "id": "0XrmttOIwWDr"
      }
    },
    {
      "cell_type": "code",
      "source": [
        "rounds_num = 1000\n",
        "victory_reward = 2\n",
        "tie_reward = 1\n",
        "loss_reward = -1\n",
        "show_bad_predictions = True"
      ],
      "metadata": {
        "id": "PfqN6hUZwYuc"
      },
      "execution_count": 3,
      "outputs": []
    },
    {
      "cell_type": "markdown",
      "source": [
        "# 3. Useful functions"
      ],
      "metadata": {
        "id": "gSRFfmOxPsCa"
      }
    },
    {
      "cell_type": "markdown",
      "source": [
        "## a. Function that distorts the given image"
      ],
      "metadata": {
        "id": "CjDyFqU9Px3E"
      }
    },
    {
      "cell_type": "markdown",
      "source": [
        "The image is first vertically flipped with the given chance, then horizontally flipped and then Gaussian noise is added to it, with the given mean and standard deviation."
      ],
      "metadata": {
        "id": "x4GjjsWUQdKp"
      }
    },
    {
      "cell_type": "code",
      "source": [
        "def distort_image(img, vertical_flip_chance, horizontal_flip_chance, white_noise_mean, white_noise_std):\n",
        "  distorted_img = img\n",
        "  if random.random() < vertical_flip_chance:\n",
        "    distorted_img = cv2.flip(distorted_img, 0)\n",
        "  if random.random() < horizontal_flip_chance:\n",
        "    distorted_img = cv2.flip(distorted_img, 1)\n",
        "\n",
        "  distorted_img = distorted_img + np.random.normal(white_noise_mean, white_noise_std, np.shape(distorted_img))\n",
        "  return distorted_img"
      ],
      "metadata": {
        "id": "enIjqVi-NaUc"
      },
      "execution_count": 4,
      "outputs": []
    },
    {
      "cell_type": "markdown",
      "source": [
        "## b. Function that hosts the game."
      ],
      "metadata": {
        "id": "D1dTrXG1QGZR"
      }
    },
    {
      "cell_type": "code",
      "source": [
        "def playGame(images, real_labels, model, rounds_num, victory_reward, tie_reward, loss_reward, height, width, vertical_flip_chance, horizontal_flip_chance, white_noise_mean, white_noise_std, show_bad_predictions):\n",
        "  # A table that holds the player's rewards based on the player's and random agent's moves.\n",
        "  # The rows correspond to the player's moves and the columns to the random agent's moves.\n",
        "  reward_table = np.array([[tie_reward, loss_reward, victory_reward], [victory_reward, tie_reward, loss_reward], [loss_reward, victory_reward, tie_reward]])\n",
        "\n",
        "  profit = 0\n",
        "  profit_history = []\n",
        "  non_wins = 0\n",
        "  for i in range(rounds_num):\n",
        "    # Select a random image from the test set and reshape it back to its original dimensions.\n",
        "    random_index = random.randint(0, len(images) - 1)\n",
        "    selected_img = np.reshape(x_test[random_index], (height, width, color_dim))\n",
        "\n",
        "    # Distort the image using the applicable function\n",
        "    selected_distorted_img = distort_image(selected_img, vertical_flip_chance, horizontal_flip_chance, white_noise_mean, white_noise_std)\n",
        "\n",
        "    # Scale the distorted image using min max scaling\n",
        "    selected_distorted_scaled_img = selected_distorted_img / 255\n",
        "\n",
        "    # Use the provided model to detect the move of the random agent.\n",
        "    detected_move = np.argmax(model.predict(np.reshape(selected_distorted_scaled_img, (1, height, width, color_dim)), verbose=0))\n",
        "    # Save the actual move of the random agent.\n",
        "    real_move = real_labels[random_index]\n",
        "\n",
        "    # Calculate the player's move based on the detected move. If the detected move was rock, play paper,\n",
        "    # else if it was paper, play scissorcs, else if it was scissors, play rock.\n",
        "    match detected_move:\n",
        "      case 0:\n",
        "        player_move = 1\n",
        "        detected_move_label = 'rock'\n",
        "      case 1:\n",
        "        player_move = 2\n",
        "        detected_move_label = 'paper'\n",
        "      case 2:\n",
        "        player_move = 0\n",
        "        detected_move_label = 'scissors'\n",
        "\n",
        "    # Update the total profit using the reward table.\n",
        "    profit += reward_table[player_move, real_move] - 1\n",
        "\n",
        "    # Add the current profit to the list of profits after the end of each round.\n",
        "    profit_history.append(profit)\n",
        "\n",
        "    if show_bad_predictions:\n",
        "      match real_move:\n",
        "        case 0:\n",
        "          real_move_label = 'rock'\n",
        "        case 1:\n",
        "          real_move_label = 'paper'\n",
        "        case 2:\n",
        "          real_move_label = 'scissors'\n",
        "\n",
        "      if reward_table[player_move, real_move] == tie_reward:\n",
        "        non_wins += 1\n",
        "        print(f'{non_wins}) Tied against this image (detected = {detected_move_label}, real = {real_move_label}):')\n",
        "        cv2_imshow(selected_distorted_img)\n",
        "      elif reward_table[player_move, real_move] == loss_reward:\n",
        "        non_wins += 1\n",
        "        print(f'{non_wins}) Lost against this image (detected = {detected_move_label}, real = {real_move_label}):')\n",
        "        cv2_imshow(selected_distorted_img)\n",
        "\n",
        "  return profit_history"
      ],
      "metadata": {
        "id": "Bx0U5KTeOeBt"
      },
      "execution_count": 5,
      "outputs": []
    },
    {
      "cell_type": "markdown",
      "source": [
        "# 4. Dataset reading"
      ],
      "metadata": {
        "id": "-SBQDxgRRmeM"
      }
    },
    {
      "cell_type": "code",
      "source": [
        "x, y = [], []\n",
        "for folder in os.listdir(dataset_directory):\n",
        "  for file in os.listdir(f'{dataset_directory}/{folder}'):\n",
        "    # rock corresponds to the label 0, paper to 1 and scissors to 2.\n",
        "    match folder:\n",
        "      case 'rock': y.append(0)\n",
        "      case 'paper':  y.append(1)\n",
        "      case 'scissors': y.append(2)\n",
        "\n",
        "    # Save the image.\n",
        "    img = cv2.imread(f'{dataset_directory}/{folder}/{file}')\n",
        "    # Resize the image to the selected dimensions.\n",
        "    img = cv2.resize(img, (width, height), interpolation = cv2.INTER_AREA)\n",
        "    # If selected, save the image in grayscale.\n",
        "    if grayscale:\n",
        "      img = cv2.cvtColor(img, cv2.COLOR_BGR2GRAY)\n",
        "\n",
        "    # Add the image to the list of images which will be saved in the dataframe\n",
        "    x.append(img.flatten())\n",
        "\n",
        "x, y = np.array(x), np.array(y)"
      ],
      "metadata": {
        "id": "-4QpH6CnM6kU"
      },
      "execution_count": 6,
      "outputs": []
    },
    {
      "cell_type": "markdown",
      "source": [
        "# 5. Stratified train test split"
      ],
      "metadata": {
        "id": "78vKgbtwSHwT"
      }
    },
    {
      "cell_type": "code",
      "source": [
        "x_train, x_test, y_train, y_test = train_test_split(x, y, test_size=0.2, random_state=random_state, stratify=y)"
      ],
      "metadata": {
        "id": "FOJN3wSC5JfM"
      },
      "execution_count": 7,
      "outputs": []
    },
    {
      "cell_type": "markdown",
      "source": [
        "# 6. Train and test sets distortion"
      ],
      "metadata": {
        "id": "Eau68X5MSPqw"
      }
    },
    {
      "cell_type": "code",
      "source": [
        "x_train_dist_scaled = np.copy(x_train)\n",
        "for i in range(len(x_train_dist_scaled)):\n",
        "  x_train_dist_scaled[i] = distort_image(np.reshape(x_train_dist_scaled[i], (height, width, color_dim)), vertical_flip_chance, horizontal_flip_chance, white_noise_mean, white_noise_std).flatten()"
      ],
      "metadata": {
        "id": "WgfQgyN_9JYq"
      },
      "execution_count": 8,
      "outputs": []
    },
    {
      "cell_type": "code",
      "source": [
        "x_test_dist_scaled = np.copy(x_test)\n",
        "for i in range(len(x_test_dist_scaled)):\n",
        "  x_test_dist_scaled[i] = distort_image(np.reshape(x_test_dist_scaled[i], (height, width, color_dim)), vertical_flip_chance, horizontal_flip_chance, white_noise_mean, white_noise_std).flatten()"
      ],
      "metadata": {
        "id": "Q4Zi9UxB1CZP"
      },
      "execution_count": 9,
      "outputs": []
    },
    {
      "cell_type": "markdown",
      "source": [
        "# 7. Min max scaling"
      ],
      "metadata": {
        "id": "mIfXAkVKSaXZ"
      }
    },
    {
      "cell_type": "code",
      "source": [
        "scaler = MinMaxScaler()\n",
        "x_train_dist_norm = scaler.fit_transform(x_train_dist_scaled)"
      ],
      "metadata": {
        "id": "8c5-w7zQLVUy"
      },
      "execution_count": 10,
      "outputs": []
    },
    {
      "cell_type": "code",
      "source": [
        "x_test_dist_norm = scaler.transform(x_test_dist_scaled)"
      ],
      "metadata": {
        "id": "s0YnwXIV1ZwY"
      },
      "execution_count": 11,
      "outputs": []
    },
    {
      "cell_type": "markdown",
      "source": [
        "# 8 Train different models to predict the move each image depicts"
      ],
      "metadata": {
        "id": "o7MfJTemSeay"
      }
    },
    {
      "cell_type": "markdown",
      "source": [
        "The SVC and Random Forest are trained using the distorted train set. The Keras convolutional NN has two flip layers (one vertical and one horizontal) and one gaussian noise one."
      ],
      "metadata": {
        "id": "n2RlOGCLzWTI"
      }
    },
    {
      "cell_type": "markdown",
      "source": [
        "## SVC fitting and classification reports"
      ],
      "metadata": {
        "id": "QGeldUB30O4f"
      }
    },
    {
      "cell_type": "code",
      "source": [
        "svc = SVC(random_state=random_state)\n",
        "svc.fit(x_train_dist_scaled, y_train)\n",
        "\n",
        "print(f'SVC train classification report:\\n{classification_report(y_train, svc.predict(x_train_dist_scaled), target_names=[\"rock\", \"paper\", \"scissors\"])}')\n",
        "print(f'SVC test classification report:\\n{classification_report(y_test, svc.predict(x_test_dist_scaled), target_names=[\"rock\", \"paper\", \"scissors\"])}')"
      ],
      "metadata": {
        "colab": {
          "base_uri": "https://localhost:8080/"
        },
        "id": "g_FxbBcp9_70",
        "outputId": "762f7789-c536-45fe-dc02-c83910ad24d7"
      },
      "execution_count": 12,
      "outputs": [
        {
          "output_type": "stream",
          "name": "stdout",
          "text": [
            "Train classification report:\n",
            "              precision    recall  f1-score   support\n",
            "\n",
            "        rock       0.99      0.96      0.97       581\n",
            "       paper       0.99      0.95      0.97       569\n",
            "    scissors       0.93      0.99      0.96       600\n",
            "\n",
            "    accuracy                           0.97      1750\n",
            "   macro avg       0.97      0.97      0.97      1750\n",
            "weighted avg       0.97      0.97      0.97      1750\n",
            "\n",
            "Test classification report:\n",
            "              precision    recall  f1-score   support\n",
            "\n",
            "        rock       0.95      0.92      0.93       145\n",
            "       paper       0.96      0.88      0.92       143\n",
            "    scissors       0.87      0.97      0.91       150\n",
            "\n",
            "    accuracy                           0.92       438\n",
            "   macro avg       0.93      0.92      0.92       438\n",
            "weighted avg       0.93      0.92      0.92       438\n",
            "\n"
          ]
        }
      ]
    },
    {
      "cell_type": "markdown",
      "source": [
        "## Random forest fitting and classfication reports"
      ],
      "metadata": {
        "id": "PPYCGL8A2ybp"
      }
    },
    {
      "cell_type": "code",
      "source": [
        "rf = RandomForestClassifier(random_state=random_state)\n",
        "rf.fit(x_train_dist_scaled, y_train)\n",
        "\n",
        "print(f'RF train classification report:\\n{classification_report(y_train, rf.predict(x_train_dist_scaled), target_names=[\"rock\", \"paper\", \"scissors\"])}')\n",
        "print(f'RF test classification report:\\n{classification_report(y_test, rf.predict(x_test_dist_scaled), target_names=[\"rock\", \"paper\", \"scissors\"])}')"
      ],
      "metadata": {
        "colab": {
          "base_uri": "https://localhost:8080/"
        },
        "id": "LrE67mQy22v7",
        "outputId": "484320e1-bd6e-4138-e9f5-48e4dc66d03c"
      },
      "execution_count": 13,
      "outputs": [
        {
          "output_type": "stream",
          "name": "stdout",
          "text": [
            "Train classification report:\n",
            "              precision    recall  f1-score   support\n",
            "\n",
            "        rock       1.00      1.00      1.00       581\n",
            "       paper       1.00      1.00      1.00       569\n",
            "    scissors       1.00      1.00      1.00       600\n",
            "\n",
            "    accuracy                           1.00      1750\n",
            "   macro avg       1.00      1.00      1.00      1750\n",
            "weighted avg       1.00      1.00      1.00      1750\n",
            "\n",
            "Test classification report:\n",
            "              precision    recall  f1-score   support\n",
            "\n",
            "        rock       0.87      0.94      0.90       145\n",
            "       paper       0.92      0.84      0.88       143\n",
            "    scissors       0.91      0.92      0.91       150\n",
            "\n",
            "    accuracy                           0.90       438\n",
            "   macro avg       0.90      0.90      0.90       438\n",
            "weighted avg       0.90      0.90      0.90       438\n",
            "\n"
          ]
        }
      ]
    },
    {
      "cell_type": "markdown",
      "source": [
        "## Convolutional neural network fitting and classification reports"
      ],
      "metadata": {
        "id": "U9KwKEqM3ZxT"
      }
    },
    {
      "cell_type": "markdown",
      "source": [
        "Reshape the train and test sets back to thier original shape and scale them using min max scaling."
      ],
      "metadata": {
        "id": "3Sh6qcsrz3Vf"
      }
    },
    {
      "cell_type": "code",
      "source": [
        "x_train_cnn = np.reshape(np.array(x_train), (x_train.shape[0], height, width, color_dim)) / 255\n",
        "x_test_cnn = np.reshape(np.array(x_test), (x_test.shape[0], height, width, color_dim)) / 255"
      ],
      "metadata": {
        "id": "9f7s8f_Fz3CB"
      },
      "execution_count": 14,
      "outputs": []
    },
    {
      "cell_type": "markdown",
      "source": [
        "There are three classes and the labels are one-hot encoded."
      ],
      "metadata": {
        "id": "xx9374AOzkge"
      }
    },
    {
      "cell_type": "code",
      "source": [
        "num_classes = 3\n",
        "y_train_one_hot = tf.one_hot(y_train, depth=num_classes)\n",
        "y_test_one_hot = tf.one_hot(y_test, depth=num_classes)\n",
        "y_train.shape, y_test.shape"
      ],
      "metadata": {
        "colab": {
          "base_uri": "https://localhost:8080/"
        },
        "id": "xOM28HYFVS1Y",
        "outputId": "f1038520-284e-46a5-d0f5-a6a2e2cc6627"
      },
      "execution_count": 15,
      "outputs": [
        {
          "output_type": "execute_result",
          "data": {
            "text/plain": [
              "((1750,), (438,))"
            ]
          },
          "metadata": {},
          "execution_count": 15
        }
      ]
    },
    {
      "cell_type": "markdown",
      "source": [
        "Keras convolutional neural network parameters."
      ],
      "metadata": {
        "id": "_dGgPxAnzrKn"
      }
    },
    {
      "cell_type": "code",
      "source": [
        "num_conv_layers = 2\n",
        "num_filters = 64\n",
        "kernel_size = (4, 6)\n",
        "strides = (1, 1)\n",
        "input_shape = (height, width, )\n",
        "num_hidden_layers = 5\n",
        "units = [98, 196, 392, 196, 98]\n",
        "\n",
        "activation = 'relu'\n",
        "dropout_rate = 0.5"
      ],
      "metadata": {
        "id": "kNPoE_iVW-MV"
      },
      "execution_count": 16,
      "outputs": []
    },
    {
      "cell_type": "code",
      "source": [
        "cnn = tf.keras.Sequential(name='rock-paper-scissorcs-cn')\n",
        "\n",
        "# Flip and Gaussian noise layers\n",
        "cnn.add(tf.keras.layers.Input((height, width, color_dim), name='input_layer'))\n",
        "cnn.add(tf.keras.layers.RandomFlip(mode='vertical'))\n",
        "cnn.add(tf.keras.layers.RandomFlip(mode='horizontal'))\n",
        "cnn.add(tf.keras.layers.GaussianNoise(stddev=white_noise_std / 255))\n",
        "\n",
        "# CNN\n",
        "for i in range(num_conv_layers):\n",
        "  cnn.add(\n",
        "      tf.keras.layers.Conv2D(\n",
        "          filters=num_filters,\n",
        "          kernel_size=kernel_size,\n",
        "          strides=strides,\n",
        "          activation='relu',\n",
        "          name=f'conv_layer_{i+1}'\n",
        "      )\n",
        "  )\n",
        "  cnn.add(tf.keras.layers.Dropout(rate=dropout_rate, name=f'dropout_{i+1}'))\n",
        "  cnn.add(tf.keras.layers.MaxPooling2D(name=f'maxpool_{i+1}'))\n",
        "\n",
        "# Flattening\n",
        "cnn.add(tf.keras.layers.Flatten())\n",
        "\n",
        "# CNN\n",
        "for i in range(num_hidden_layers):\n",
        "  cnn.add(tf.keras.layers.Dense(units=units[i], activation=activation, name=f'hidden_layer_{i+1}'))\n",
        "cnn.add(tf.keras.layers.Dense(units=num_classes, activation='softmax', name='output_layer'))\n",
        "cnn.summary()"
      ],
      "metadata": {
        "colab": {
          "base_uri": "https://localhost:8080/"
        },
        "id": "nnKA8KYEV4va",
        "outputId": "cc966b83-57cc-4594-cbe3-198c7779f818"
      },
      "execution_count": 17,
      "outputs": [
        {
          "output_type": "stream",
          "name": "stdout",
          "text": [
            "Model: \"rock-paper-scissorcs-cn\"\n",
            "_________________________________________________________________\n",
            " Layer (type)                Output Shape              Param #   \n",
            "=================================================================\n",
            " random_flip (RandomFlip)    (None, 40, 60, 3)         0         \n",
            "                                                                 \n",
            " random_flip_1 (RandomFlip)  (None, 40, 60, 3)         0         \n",
            "                                                                 \n",
            " gaussian_noise (GaussianNo  (None, 40, 60, 3)         0         \n",
            " ise)                                                            \n",
            "                                                                 \n",
            " conv_layer_1 (Conv2D)       (None, 37, 55, 64)        4672      \n",
            "                                                                 \n",
            " dropout_1 (Dropout)         (None, 37, 55, 64)        0         \n",
            "                                                                 \n",
            " maxpool_1 (MaxPooling2D)    (None, 18, 27, 64)        0         \n",
            "                                                                 \n",
            " conv_layer_2 (Conv2D)       (None, 15, 22, 64)        98368     \n",
            "                                                                 \n",
            " dropout_2 (Dropout)         (None, 15, 22, 64)        0         \n",
            "                                                                 \n",
            " maxpool_2 (MaxPooling2D)    (None, 7, 11, 64)         0         \n",
            "                                                                 \n",
            " flatten (Flatten)           (None, 4928)              0         \n",
            "                                                                 \n",
            " hidden_layer_1 (Dense)      (None, 98)                483042    \n",
            "                                                                 \n",
            " hidden_layer_2 (Dense)      (None, 196)               19404     \n",
            "                                                                 \n",
            " hidden_layer_3 (Dense)      (None, 392)               77224     \n",
            "                                                                 \n",
            " hidden_layer_4 (Dense)      (None, 196)               77028     \n",
            "                                                                 \n",
            " hidden_layer_5 (Dense)      (None, 98)                19306     \n",
            "                                                                 \n",
            " output_layer (Dense)        (None, 3)                 297       \n",
            "                                                                 \n",
            "=================================================================\n",
            "Total params: 779341 (2.97 MB)\n",
            "Trainable params: 779341 (2.97 MB)\n",
            "Non-trainable params: 0 (0.00 Byte)\n",
            "_________________________________________________________________\n"
          ]
        }
      ]
    },
    {
      "cell_type": "code",
      "source": [
        "learning_rate = 0.0002\n",
        "loss = 'categorical_crossentropy'\n",
        "metrics = ['accuracy']\n",
        "batch_size = 256\n",
        "epochs = 70\n",
        "\n",
        "cnn.compile(optimizer=tf.keras.optimizers.Adam(learning_rate=learning_rate), loss=loss, metrics=metrics)\n",
        "cnn.fit(x_train_cnn, y_train_one_hot, batch_size=batch_size, epochs=epochs)"
      ],
      "metadata": {
        "colab": {
          "base_uri": "https://localhost:8080/"
        },
        "id": "1Refg30JXKeq",
        "outputId": "fbd982e2-924a-42d5-beed-9cc9e3325833"
      },
      "execution_count": 18,
      "outputs": [
        {
          "output_type": "stream",
          "name": "stdout",
          "text": [
            "Epoch 1/75\n",
            "7/7 [==============================] - 19s 2s/step - loss: 1.0888 - accuracy: 0.3983\n",
            "Epoch 2/75\n",
            "7/7 [==============================] - 16s 2s/step - loss: 1.0101 - accuracy: 0.5503\n",
            "Epoch 3/75\n",
            "7/7 [==============================] - 20s 3s/step - loss: 0.8971 - accuracy: 0.6160\n",
            "Epoch 4/75\n",
            "7/7 [==============================] - 17s 2s/step - loss: 0.7819 - accuracy: 0.6874\n",
            "Epoch 5/75\n",
            "7/7 [==============================] - 16s 2s/step - loss: 0.6549 - accuracy: 0.7326\n",
            "Epoch 6/75\n",
            "7/7 [==============================] - 16s 2s/step - loss: 0.5554 - accuracy: 0.7783\n",
            "Epoch 7/75\n",
            "7/7 [==============================] - 16s 2s/step - loss: 0.4984 - accuracy: 0.7954\n",
            "Epoch 8/75\n",
            "7/7 [==============================] - 17s 2s/step - loss: 0.4249 - accuracy: 0.8274\n",
            "Epoch 9/75\n",
            "7/7 [==============================] - 16s 2s/step - loss: 0.3704 - accuracy: 0.8583\n",
            "Epoch 10/75\n",
            "7/7 [==============================] - 17s 2s/step - loss: 0.3034 - accuracy: 0.8920\n",
            "Epoch 11/75\n",
            "7/7 [==============================] - 16s 2s/step - loss: 0.2666 - accuracy: 0.9177\n",
            "Epoch 12/75\n",
            "7/7 [==============================] - 16s 2s/step - loss: 0.2181 - accuracy: 0.9377\n",
            "Epoch 13/75\n",
            "7/7 [==============================] - 17s 3s/step - loss: 0.2122 - accuracy: 0.9286\n",
            "Epoch 14/75\n",
            "7/7 [==============================] - 16s 2s/step - loss: 0.1850 - accuracy: 0.9400\n",
            "Epoch 15/75\n",
            "7/7 [==============================] - 16s 2s/step - loss: 0.1652 - accuracy: 0.9486\n",
            "Epoch 16/75\n",
            "7/7 [==============================] - 16s 2s/step - loss: 0.1448 - accuracy: 0.9531\n",
            "Epoch 17/75\n",
            "7/7 [==============================] - 17s 2s/step - loss: 0.1273 - accuracy: 0.9617\n",
            "Epoch 18/75\n",
            "7/7 [==============================] - 17s 3s/step - loss: 0.1204 - accuracy: 0.9646\n",
            "Epoch 19/75\n",
            "7/7 [==============================] - 16s 2s/step - loss: 0.1234 - accuracy: 0.9583\n",
            "Epoch 20/75\n",
            "7/7 [==============================] - 16s 2s/step - loss: 0.1046 - accuracy: 0.9680\n",
            "Epoch 21/75\n",
            "7/7 [==============================] - 16s 2s/step - loss: 0.1141 - accuracy: 0.9617\n",
            "Epoch 22/75\n",
            "7/7 [==============================] - 16s 2s/step - loss: 0.1048 - accuracy: 0.9651\n",
            "Epoch 23/75\n",
            "7/7 [==============================] - 19s 3s/step - loss: 0.1087 - accuracy: 0.9611\n",
            "Epoch 24/75\n",
            "7/7 [==============================] - 16s 2s/step - loss: 0.1205 - accuracy: 0.9589\n",
            "Epoch 25/75\n",
            "7/7 [==============================] - 16s 2s/step - loss: 0.0991 - accuracy: 0.9669\n",
            "Epoch 26/75\n",
            "7/7 [==============================] - 16s 2s/step - loss: 0.0966 - accuracy: 0.9663\n",
            "Epoch 27/75\n",
            "7/7 [==============================] - 16s 2s/step - loss: 0.0859 - accuracy: 0.9726\n",
            "Epoch 28/75\n",
            "7/7 [==============================] - 18s 3s/step - loss: 0.0852 - accuracy: 0.9737\n",
            "Epoch 29/75\n",
            "7/7 [==============================] - 16s 2s/step - loss: 0.0712 - accuracy: 0.9789\n",
            "Epoch 30/75\n",
            "7/7 [==============================] - 16s 2s/step - loss: 0.0693 - accuracy: 0.9771\n",
            "Epoch 31/75\n",
            "7/7 [==============================] - 16s 2s/step - loss: 0.0625 - accuracy: 0.9817\n",
            "Epoch 32/75\n",
            "7/7 [==============================] - 16s 2s/step - loss: 0.0557 - accuracy: 0.9851\n",
            "Epoch 33/75\n",
            "7/7 [==============================] - 17s 3s/step - loss: 0.0607 - accuracy: 0.9840\n",
            "Epoch 34/75\n",
            "7/7 [==============================] - 17s 2s/step - loss: 0.0601 - accuracy: 0.9829\n",
            "Epoch 35/75\n",
            "7/7 [==============================] - 17s 2s/step - loss: 0.0563 - accuracy: 0.9806\n",
            "Epoch 36/75\n",
            "7/7 [==============================] - 16s 2s/step - loss: 0.0616 - accuracy: 0.9806\n",
            "Epoch 37/75\n",
            "7/7 [==============================] - 16s 2s/step - loss: 0.0530 - accuracy: 0.9834\n",
            "Epoch 38/75\n",
            "7/7 [==============================] - 17s 3s/step - loss: 0.0462 - accuracy: 0.9863\n",
            "Epoch 39/75\n",
            "7/7 [==============================] - 16s 2s/step - loss: 0.0482 - accuracy: 0.9840\n",
            "Epoch 40/75\n",
            "7/7 [==============================] - 16s 2s/step - loss: 0.0540 - accuracy: 0.9823\n",
            "Epoch 41/75\n",
            "7/7 [==============================] - 16s 2s/step - loss: 0.0740 - accuracy: 0.9771\n",
            "Epoch 42/75\n",
            "7/7 [==============================] - 17s 2s/step - loss: 0.0597 - accuracy: 0.9760\n",
            "Epoch 43/75\n",
            "7/7 [==============================] - 17s 3s/step - loss: 0.0466 - accuracy: 0.9863\n",
            "Epoch 44/75\n",
            "7/7 [==============================] - 16s 2s/step - loss: 0.0423 - accuracy: 0.9834\n",
            "Epoch 45/75\n",
            "7/7 [==============================] - 16s 2s/step - loss: 0.0403 - accuracy: 0.9886\n",
            "Epoch 46/75\n",
            "7/7 [==============================] - 16s 2s/step - loss: 0.0381 - accuracy: 0.9903\n",
            "Epoch 47/75\n",
            "7/7 [==============================] - 16s 2s/step - loss: 0.0401 - accuracy: 0.9880\n",
            "Epoch 48/75\n",
            "7/7 [==============================] - 19s 3s/step - loss: 0.0519 - accuracy: 0.9840\n",
            "Epoch 49/75\n",
            "7/7 [==============================] - 16s 2s/step - loss: 0.0557 - accuracy: 0.9800\n",
            "Epoch 50/75\n",
            "7/7 [==============================] - 16s 2s/step - loss: 0.0403 - accuracy: 0.9903\n",
            "Epoch 51/75\n",
            "7/7 [==============================] - 16s 2s/step - loss: 0.0560 - accuracy: 0.9817\n",
            "Epoch 52/75\n",
            "7/7 [==============================] - 16s 2s/step - loss: 0.0471 - accuracy: 0.9857\n",
            "Epoch 53/75\n",
            "7/7 [==============================] - 18s 3s/step - loss: 0.0542 - accuracy: 0.9817\n",
            "Epoch 54/75\n",
            "7/7 [==============================] - 17s 2s/step - loss: 0.0414 - accuracy: 0.9869\n",
            "Epoch 55/75\n",
            "7/7 [==============================] - 16s 2s/step - loss: 0.0360 - accuracy: 0.9874\n",
            "Epoch 56/75\n",
            "7/7 [==============================] - 16s 2s/step - loss: 0.0252 - accuracy: 0.9931\n",
            "Epoch 57/75\n",
            "7/7 [==============================] - 16s 2s/step - loss: 0.0320 - accuracy: 0.9903\n",
            "Epoch 58/75\n",
            "7/7 [==============================] - 18s 3s/step - loss: 0.0283 - accuracy: 0.9920\n",
            "Epoch 59/75\n",
            "7/7 [==============================] - 16s 2s/step - loss: 0.0296 - accuracy: 0.9891\n",
            "Epoch 60/75\n",
            "7/7 [==============================] - 17s 2s/step - loss: 0.0232 - accuracy: 0.9926\n",
            "Epoch 61/75\n",
            "7/7 [==============================] - 16s 2s/step - loss: 0.0292 - accuracy: 0.9891\n",
            "Epoch 62/75\n",
            "7/7 [==============================] - 16s 2s/step - loss: 0.0301 - accuracy: 0.9903\n",
            "Epoch 63/75\n",
            "7/7 [==============================] - 17s 3s/step - loss: 0.0211 - accuracy: 0.9931\n",
            "Epoch 64/75\n",
            "7/7 [==============================] - 16s 2s/step - loss: 0.0240 - accuracy: 0.9937\n",
            "Epoch 65/75\n",
            "7/7 [==============================] - 16s 2s/step - loss: 0.0211 - accuracy: 0.9920\n",
            "Epoch 66/75\n",
            "7/7 [==============================] - 17s 2s/step - loss: 0.0193 - accuracy: 0.9943\n",
            "Epoch 67/75\n",
            "7/7 [==============================] - 16s 2s/step - loss: 0.0141 - accuracy: 0.9943\n",
            "Epoch 68/75\n",
            "7/7 [==============================] - 17s 3s/step - loss: 0.0155 - accuracy: 0.9954\n",
            "Epoch 69/75\n",
            "7/7 [==============================] - 16s 2s/step - loss: 0.0146 - accuracy: 0.9960\n",
            "Epoch 70/75\n",
            "7/7 [==============================] - 16s 2s/step - loss: 0.0116 - accuracy: 0.9954\n",
            "Epoch 71/75\n",
            "7/7 [==============================] - 16s 2s/step - loss: 0.0193 - accuracy: 0.9943\n",
            "Epoch 72/75\n",
            "7/7 [==============================] - 17s 2s/step - loss: 0.0153 - accuracy: 0.9943\n",
            "Epoch 73/75\n",
            "7/7 [==============================] - 18s 2s/step - loss: 0.0165 - accuracy: 0.9926\n",
            "Epoch 74/75\n",
            "7/7 [==============================] - 16s 2s/step - loss: 0.0340 - accuracy: 0.9909\n",
            "Epoch 75/75\n",
            "7/7 [==============================] - 16s 2s/step - loss: 0.0325 - accuracy: 0.9863\n"
          ]
        },
        {
          "output_type": "execute_result",
          "data": {
            "text/plain": [
              "<keras.src.callbacks.History at 0x7b66684da170>"
            ]
          },
          "metadata": {},
          "execution_count": 18
        }
      ]
    },
    {
      "cell_type": "code",
      "source": [
        "print(f'CNN train classification report:\\n{classification_report(y_train, np.argmax(cnn.predict(x_train_cnn), axis=1), target_names=[\"rock\", \"paper\", \"scissors\"])}')\n",
        "print(f'CNN test classification report:\\n{classification_report(y_test, np.argmax(cnn.predict(x_test_cnn), axis=1), target_names=[\"rock\", \"paper\", \"scissors\"])}')"
      ],
      "metadata": {
        "colab": {
          "base_uri": "https://localhost:8080/"
        },
        "id": "fZBvhbvo3olL",
        "outputId": "87910525-13ee-42f6-e66b-45873346c46b"
      },
      "execution_count": 19,
      "outputs": [
        {
          "output_type": "stream",
          "name": "stdout",
          "text": [
            "55/55 [==============================] - 3s 55ms/step\n",
            "Train classification report:\n",
            "              precision    recall  f1-score   support\n",
            "\n",
            "        rock       1.00      1.00      1.00       581\n",
            "       paper       1.00      1.00      1.00       569\n",
            "    scissors       1.00      1.00      1.00       600\n",
            "\n",
            "    accuracy                           1.00      1750\n",
            "   macro avg       1.00      1.00      1.00      1750\n",
            "weighted avg       1.00      1.00      1.00      1750\n",
            "\n",
            "14/14 [==============================] - 1s 53ms/step\n",
            "Test classification report:\n",
            "              precision    recall  f1-score   support\n",
            "\n",
            "        rock       0.99      0.99      0.99       145\n",
            "       paper       0.98      0.98      0.98       143\n",
            "    scissors       0.99      0.99      0.99       150\n",
            "\n",
            "    accuracy                           0.99       438\n",
            "   macro avg       0.99      0.99      0.99       438\n",
            "weighted avg       0.99      0.99      0.99       438\n",
            "\n"
          ]
        }
      ]
    },
    {
      "cell_type": "markdown",
      "source": [
        "# 9. Game simulation"
      ],
      "metadata": {
        "id": "CfBB8ZfySjiF"
      }
    },
    {
      "cell_type": "code",
      "source": [
        "profit_history = playGame(x_test, y_test, cnn, rounds_num, victory_reward, tie_reward, loss_reward, height, width, vertical_flip_chance, horizontal_flip_chance, white_noise_mean, white_noise_std, show_bad_predictions)\n",
        "print(f'\\nThe total profit is {profit_history[-1]}')"
      ],
      "metadata": {
        "colab": {
          "base_uri": "https://localhost:8080/",
          "height": 1000
        },
        "id": "3aj5gOU7FQx6",
        "outputId": "0e27fae4-9d1b-48be-f731-4e47893159d4"
      },
      "execution_count": 20,
      "outputs": [
        {
          "output_type": "stream",
          "name": "stdout",
          "text": [
            "1) Tied against this image (detected = rock, real = paper):\n"
          ]
        },
        {
          "output_type": "display_data",
          "data": {
            "text/plain": [
              "<PIL.Image.Image image mode=RGB size=60x40>"
            ],
            "image/png": "[encoded data removed]"
          },
          "metadata": {}
        },
        {
          "output_type": "stream",
          "name": "stdout",
          "text": [
            "2) Lost against this image (detected = paper, real = rock):\n"
          ]
        },
        {
          "output_type": "display_data",
          "data": {
            "text/plain": [
              "<PIL.Image.Image image mode=RGB size=60x40>"
            ],
            "image/png": "[encoded data removed]"
          },
          "metadata": {}
        },
        {
          "output_type": "stream",
          "name": "stdout",
          "text": [
            "3) Tied against this image (detected = paper, real = scissors):\n"
          ]
        },
        {
          "output_type": "display_data",
          "data": {
            "text/plain": [
              "<PIL.Image.Image image mode=RGB size=60x40>"
            ],
            "image/png": "[encoded data removed]"
          },
          "metadata": {}
        },
        {
          "output_type": "stream",
          "name": "stdout",
          "text": [
            "4) Tied against this image (detected = rock, real = paper):\n"
          ]
        },
        {
          "output_type": "display_data",
          "data": {
            "text/plain": [
              "<PIL.Image.Image image mode=RGB size=60x40>"
            ],
            "image/png": "[encoded data removed]"
          },
          "metadata": {}
        },
        {
          "output_type": "stream",
          "name": "stdout",
          "text": [
            "5) Tied against this image (detected = rock, real = paper):\n"
          ]
        },
        {
          "output_type": "display_data",
          "data": {
            "text/plain": [
              "<PIL.Image.Image image mode=RGB size=60x40>"
            ],
            "image/png": "[encoded data removed]"
          },
          "metadata": {}
        },
        {
          "output_type": "stream",
          "name": "stdout",
          "text": [
            "6) Lost against this image (detected = paper, real = rock):\n"
          ]
        },
        {
          "output_type": "display_data",
          "data": {
            "text/plain": [
              "<PIL.Image.Image image mode=RGB size=60x40>"
            ],
            "image/png": "[encoded data removed]"
          },
          "metadata": {}
        },
        {
          "output_type": "stream",
          "name": "stdout",
          "text": [
            "7) Lost against this image (detected = paper, real = rock):\n"
          ]
        },
        {
          "output_type": "display_data",
          "data": {
            "text/plain": [
              "<PIL.Image.Image image mode=RGB size=60x40>"
            ],
            "image/png": "[encoded data removed]"
          },
          "metadata": {}
        },
        {
          "output_type": "stream",
          "name": "stdout",
          "text": [
            "8) Lost against this image (detected = paper, real = rock):\n"
          ]
        },
        {
          "output_type": "display_data",
          "data": {
            "text/plain": [
              "<PIL.Image.Image image mode=RGB size=60x40>"
            ],
            "image/png": "[encoded data removed]"
          },
          "metadata": {}
        },
        {
          "output_type": "stream",
          "name": "stdout",
          "text": [
            "9) Lost against this image (detected = paper, real = rock):\n"
          ]
        },
        {
          "output_type": "display_data",
          "data": {
            "text/plain": [
              "<PIL.Image.Image image mode=RGB size=60x40>"
            ],
            "image/png": "[encoded data removed]"
          },
          "metadata": {}
        },
        {
          "output_type": "stream",
          "name": "stdout",
          "text": [
            "10) Lost against this image (detected = paper, real = rock):\n"
          ]
        },
        {
          "output_type": "display_data",
          "data": {
            "text/plain": [
              "<PIL.Image.Image image mode=RGB size=60x40>"
            ],
            "image/png": "[encoded data removed]"
          },
          "metadata": {}
        },
        {
          "output_type": "stream",
          "name": "stdout",
          "text": [
            "11) Tied against this image (detected = rock, real = paper):\n"
          ]
        },
        {
          "output_type": "display_data",
          "data": {
            "text/plain": [
              "<PIL.Image.Image image mode=RGB size=60x40>"
            ],
            "image/png": "[encoded data removed]"
          },
          "metadata": {}
        },
        {
          "output_type": "stream",
          "name": "stdout",
          "text": [
            "12) Tied against this image (detected = rock, real = paper):\n"
          ]
        },
        {
          "output_type": "display_data",
          "data": {
            "text/plain": [
              "<PIL.Image.Image image mode=RGB size=60x40>"
            ],
            "image/png": "[encoded data removed]"
          },
          "metadata": {}
        },
        {
          "output_type": "stream",
          "name": "stdout",
          "text": [
            "13) Lost against this image (detected = paper, real = rock):\n"
          ]
        },
        {
          "output_type": "display_data",
          "data": {
            "text/plain": [
              "<PIL.Image.Image image mode=RGB size=60x40>"
            ],
            "image/png": "[encoded data removed]"
          },
          "metadata": {}
        },
        {
          "output_type": "stream",
          "name": "stdout",
          "text": [
            "14) Tied against this image (detected = rock, real = paper):\n"
          ]
        },
        {
          "output_type": "display_data",
          "data": {
            "text/plain": [
              "<PIL.Image.Image image mode=RGB size=60x40>"
            ],
            "image/png": "[encoded data removed]"
          },
          "metadata": {}
        },
        {
          "output_type": "stream",
          "name": "stdout",
          "text": [
            "15) Lost against this image (detected = paper, real = rock):\n"
          ]
        },
        {
          "output_type": "display_data",
          "data": {
            "text/plain": [
              "<PIL.Image.Image image mode=RGB size=60x40>"
            ],
            "image/png": "[encoded data removed]"
          },
          "metadata": {}
        },
        {
          "output_type": "stream",
          "name": "stdout",
          "text": [
            "16) Lost against this image (detected = paper, real = rock):\n"
          ]
        },
        {
          "output_type": "display_data",
          "data": {
            "text/plain": [
              "<PIL.Image.Image image mode=RGB size=60x40>"
            ],
            "image/png": "[encoded data removed]"
          },
          "metadata": {}
        },
        {
          "output_type": "stream",
          "name": "stdout",
          "text": [
            "17) Lost against this image (detected = paper, real = rock):\n"
          ]
        },
        {
          "output_type": "display_data",
          "data": {
            "text/plain": [
              "<PIL.Image.Image image mode=RGB size=60x40>"
            ],
            "image/png": "[encoded data removed]"
          },
          "metadata": {}
        },
        {
          "output_type": "stream",
          "name": "stdout",
          "text": [
            "18) Lost against this image (detected = scissors, real = paper):\n"
          ]
        },
        {
          "output_type": "display_data",
          "data": {
            "text/plain": [
              "<PIL.Image.Image image mode=RGB size=60x40>"
            ],
            "image/png": "[encoded data removed]"
          },
          "metadata": {}
        },
        {
          "output_type": "stream",
          "name": "stdout",
          "text": [
            "19) Lost against this image (detected = scissors, real = paper):\n"
          ]
        },
        {
          "output_type": "display_data",
          "data": {
            "text/plain": [
              "<PIL.Image.Image image mode=RGB size=60x40>"
            ],
            "image/png": "[encoded data removed]"
          },
          "metadata": {}
        },
        {
          "output_type": "stream",
          "name": "stdout",
          "text": [
            "20) Lost against this image (detected = paper, real = rock):\n"
          ]
        },
        {
          "output_type": "display_data",
          "data": {
            "text/plain": [
              "<PIL.Image.Image image mode=RGB size=60x40>"
            ],
            "image/png": "[encoded data removed]"
          },
          "metadata": {}
        },
        {
          "output_type": "stream",
          "name": "stdout",
          "text": [
            "21) Tied against this image (detected = rock, real = paper):\n"
          ]
        },
        {
          "output_type": "display_data",
          "data": {
            "text/plain": [
              "<PIL.Image.Image image mode=RGB size=60x40>"
            ],
            "image/png": "[encoded data removed]"
          },
          "metadata": {}
        },
        {
          "output_type": "stream",
          "name": "stdout",
          "text": [
            "22) Tied against this image (detected = paper, real = scissors):\n"
          ]
        },
        {
          "output_type": "display_data",
          "data": {
            "text/plain": [
              "<PIL.Image.Image image mode=RGB size=60x40>"
            ],
            "image/png": "[encoded data removed]"
          },
          "metadata": {}
        },
        {
          "output_type": "stream",
          "name": "stdout",
          "text": [
            "\n",
            "The total profit is 952\n"
          ]
        }
      ]
    },
    {
      "cell_type": "markdown",
      "source": [
        "# 10. Total profit plot"
      ],
      "metadata": {
        "id": "BEAuIkMpSmGV"
      }
    },
    {
      "cell_type": "code",
      "source": [
        "plot = plt.plot([i for i in range(1, rounds_num + 1)], profit_history)\n",
        "plt.xlabel(\"Round number\")\n",
        "plt.ylabel(\"Total profit\")\n",
        "plt.title(\"Total profit plot\")\n",
        "plt.show()"
      ],
      "metadata": {
        "colab": {
          "base_uri": "https://localhost:8080/",
          "height": 472
        },
        "id": "xVTSuQ3kTCLu",
        "outputId": "7e931ac3-4318-4b78-93e4-6839e498c4cf"
      },
      "execution_count": 21,
      "outputs": [
        {
          "output_type": "display_data",
          "data": {
            "text/plain": [
              "<Figure size 640x480 with 1 Axes>"
            ],
            "image/png": "[encoded data removed]"
          },
          "metadata": {}
        }
      ]
    },
    {
      "cell_type": "markdown",
      "source": [
        "# 11. Secondary dataset classification report"
      ],
      "metadata": {
        "id": "sEC9ygLwPFpF"
      }
    },
    {
      "cell_type": "markdown",
      "source": [
        "Secondary dataset reading (only 500 samples from each class are used)."
      ],
      "metadata": {
        "id": "GCaOJDPnQN87"
      }
    },
    {
      "cell_type": "code",
      "source": [
        "x_sec, y_sec = [], []\n",
        "secondary_dataset_directory = '/content/drive/MyDrive/secondary-rps-images'\n",
        "for folder in os.listdir(secondary_dataset_directory):\n",
        "  for file in os.listdir(f'{secondary_dataset_directory}/{folder}'):\n",
        "    # rock corresponds to the label 0, paper to 1 and scissors to 2.\n",
        "    match folder:\n",
        "      case 'rock': y_sec.append(0)\n",
        "      case 'paper':  y_sec.append(1)\n",
        "      case 'scissors': y_sec.append(2)\n",
        "\n",
        "    # Save the image.\n",
        "    img = cv2.imread(f'{secondary_dataset_directory}/{folder}/{file}')\n",
        "    # Resize the image to the selected dimensions.\n",
        "    img = cv2.resize(img, (width, height), interpolation = cv2.INTER_AREA)\n",
        "    # If selected, save the image in grayscale.\n",
        "    if grayscale:\n",
        "      img = cv2.cvtColor(img, cv2.COLOR_BGR2GRAY)\n",
        "\n",
        "    # Add the image to the list of images which will be saved in the dataframe\n",
        "    x_sec.append(img)\n",
        "\n",
        "x_sec, y_sec = np.array(x_sec) / 255, np.array(y_sec)"
      ],
      "metadata": {
        "id": "1Kc0FL8MQNhz"
      },
      "execution_count": 22,
      "outputs": []
    },
    {
      "cell_type": "markdown",
      "source": [
        "Classification report of the CNN on the secondary dataset."
      ],
      "metadata": {
        "id": "I81qTXCEaDtH"
      }
    },
    {
      "cell_type": "code",
      "source": [
        "print(f'Secondary dataset classification report:\\n{classification_report(y_sec, np.argmax(cnn.predict(x_sec), axis=1), target_names=[\"rock\", \"paper\", \"scissors\"], zero_division=0.0)}')"
      ],
      "metadata": {
        "colab": {
          "base_uri": "https://localhost:8080/"
        },
        "id": "F7fPi6MePPVT",
        "outputId": "0d45acd1-f6d7-4467-f951-3fc6a9af6cbf"
      },
      "execution_count": 23,
      "outputs": [
        {
          "output_type": "stream",
          "name": "stdout",
          "text": [
            "47/47 [==============================] - 3s 55ms/step\n",
            "Secondary dataset classification report:\n",
            "              precision    recall  f1-score   support\n",
            "\n",
            "        rock       1.00      0.07      0.14       500\n",
            "       paper       0.34      1.00      0.51       500\n",
            "    scissors       0.00      0.00      0.00       500\n",
            "\n",
            "    accuracy                           0.36      1500\n",
            "   macro avg       0.45      0.36      0.22      1500\n",
            "weighted avg       0.45      0.36      0.22      1500\n",
            "\n"
          ]
        }
      ]
    }
  ]
}